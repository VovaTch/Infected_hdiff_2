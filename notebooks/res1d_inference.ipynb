{
 "cells": [
  {
   "cell_type": "markdown",
   "metadata": {},
   "source": [
    "# Infected HDiff Res1D Inference Notebook"
   ]
  },
  {
   "cell_type": "markdown",
   "metadata": {},
   "source": [
    "## Setup and Imports"
   ]
  },
  {
   "cell_type": "markdown",
   "metadata": {},
   "source": [
    "### Change working directory"
   ]
  },
  {
   "cell_type": "code",
   "execution_count": null,
   "metadata": {},
   "outputs": [],
   "source": [
    "import os\n",
    "os.chdir(\"..\")"
   ]
  },
  {
   "cell_type": "markdown",
   "metadata": {},
   "source": [
    "### Imports"
   ]
  },
  {
   "cell_type": "code",
   "execution_count": null,
   "metadata": {},
   "outputs": [],
   "source": [
    "import torch\n",
    "import random\n",
    "import seaborn as sns\n",
    "import numpy as np\n",
    "import pandas as pd\n",
    "import torchaudio\n",
    "import IPython\n",
    "\n",
    "from loaders.build import build_mel_spec_module\n",
    "from models.build import build_res1d_vocoder, build_mel_spec_converter\n",
    "from utils.containers import MelSpecParameters, LearningParameters, DiffusionParameters, MusicDatasetParameters, parse_cfg_for_vocoder\n",
    "from utils.others import load_config"
   ]
  },
  {
   "cell_type": "markdown",
   "metadata": {},
   "source": [
    "### Load configuration"
   ]
  },
  {
   "cell_type": "code",
   "execution_count": null,
   "metadata": {},
   "outputs": [],
   "source": [
    "cfg_path = \"config/vocoders/config_res1d.yaml\"\n",
    "cfg = load_config(cfg_path)\n",
    "device = \"cuda\" if torch.cuda.is_available() else \"cpu\"\n",
    "print(f\"The current device is {device.upper()}\")\n",
    "\n",
    "weights_path = \"weights/vocoder/res1d_best.ckpt\""
   ]
  },
  {
   "cell_type": "markdown",
   "metadata": {},
   "source": [
    "### Load model"
   ]
  },
  {
   "cell_type": "code",
   "execution_count": null,
   "metadata": {},
   "outputs": [],
   "source": [
    "vocoder = build_res1d_vocoder(cfg, loss_aggregator=None, weights_path=weights_path).eval().to(device)\n",
    "print(f\"Loaded vocoder from path {weights_path}\")"
   ]
  },
  {
   "cell_type": "markdown",
   "metadata": {},
   "source": [
    "### Load dataset"
   ]
  },
  {
   "cell_type": "code",
   "execution_count": null,
   "metadata": {},
   "outputs": [],
   "source": [
    "dataset_params = MusicDatasetParameters(**cfg[\"dataset\"])\n",
    "learning_params = LearningParameters(**cfg[\"learning\"])\n",
    "learning_params.batch_size = 1\n",
    "mel_spec_params = MelSpecParameters(**cfg[\"image_mel_spec_params\"])\n",
    "data_module = build_mel_spec_module(dataset_params, learning_params, mel_spec_params)"
   ]
  },
  {
   "cell_type": "markdown",
   "metadata": {},
   "source": [
    "### Load data-point"
   ]
  },
  {
   "cell_type": "code",
   "execution_count": null,
   "metadata": {},
   "outputs": [],
   "source": [
    "data_module.setup(\"fit\")\n",
    "loader = data_module.train_dataloader()\n",
    "for batch in loader:\n",
    "    print(f\"File name: {batch['slice_file_name'][0]}\")\n",
    "    print(f\"File index: {batch['slice_idx'].item()}\")\n",
    "    print(f\"The slice dimensions are {tuple(batch['slice'].shape)}\")\n",
    "    slice = batch[\"slice\"]\n",
    "    break"
   ]
  },
  {
   "cell_type": "markdown",
   "metadata": {},
   "source": [
    "### Create player object"
   ]
  },
  {
   "cell_type": "code",
   "execution_count": null,
   "metadata": {},
   "outputs": [],
   "source": [
    "# this is a wrapper that take a filename and publish an html <audio> tag to listen to it\n",
    "\n",
    "def wavPlayer(filepath):\n",
    "    \"\"\" will display html 5 player for compatible browser\n",
    "\n",
    "    Parameters :\n",
    "    ------------\n",
    "    filepath : relative filepath with respect to the notebook directory ( where the .ipynb are not cwd)\n",
    "               of the file to play\n",
    "\n",
    "    The browser need to know how to play wav through html5.\n",
    "\n",
    "    there is no autoplay to prevent file playing when the browser opens\n",
    "    \"\"\"\n",
    "    \n",
    "    src = \"\"\"\n",
    "    <head>\n",
    "    <meta http-equiv=\"Content-Type\" content=\"text/html; charset=utf-8\">\n",
    "    <title>Simple Test</title>\n",
    "    </head>\n",
    "    \n",
    "    <body>\n",
    "    <audio controls=\"controls\" style=\"width:600px\" >\n",
    "      <source src=\"files/%s\" type=\"audio/mp3\" />\n",
    "      Your browser does not support the audio element.\n",
    "    </audio>\n",
    "    </body>\n",
    "    \"\"\"%(filepath)\n",
    "    display(HTML(src))"
   ]
  },
  {
   "cell_type": "markdown",
   "metadata": {},
   "source": [
    "## Present and Process the Slice\n",
    "\n",
    "### Show Mel-Spectrogram"
   ]
  },
  {
   "cell_type": "code",
   "execution_count": null,
   "metadata": {},
   "outputs": [],
   "source": [
    "mel_spec_converter = build_mel_spec_converter(\"simple\", mel_spec_params)\n",
    "slice_mel_spec = mel_spec_converter.convert(slice)\n",
    "sns.set(rc={'figure.figsize':(20, 5)})\n",
    "ax = sns.heatmap(slice_mel_spec.squeeze(0).squeeze(0).cpu().numpy(), robust=True, cmap=\"mako\")\n",
    "ax.invert_yaxis()"
   ]
  },
  {
   "cell_type": "markdown",
   "metadata": {},
   "source": [
    "### Show waveform and play it"
   ]
  },
  {
   "cell_type": "code",
   "execution_count": null,
   "metadata": {},
   "outputs": [],
   "source": [
    "x = (np.array(range(slice.shape[-1])) + 1) / dataset_params.sample_rate\n",
    "y = slice.squeeze(0).squeeze(0).cpu().numpy()\n",
    "data = pd.DataFrame({\"Time [s]\": x, \"Signal\": y})\n",
    "sns.set_style(\"darkgrid\")\n",
    "sns.set(rc={'figure.figsize':(20, 5)})\n",
    "ax = sns.lineplot(data=data, x=\"Time [s]\", y=\"Signal\")\n",
    "ax.set_ylim((-1, 1))\n",
    "torchaudio.save('sample_out.mp3', slice.squeeze(0).cpu().detach(), 44100, format='mp3')\n",
    "IPython.display.Audio(filename=\"sample_out.mp3\")"
   ]
  },
  {
   "cell_type": "markdown",
   "metadata": {},
   "source": [
    "### Reconstruct the sound-wave"
   ]
  },
  {
   "cell_type": "code",
   "execution_count": null,
   "metadata": {},
   "outputs": [],
   "source": [
    "inputs = {\"mel_spec\": slice_mel_spec.squeeze(1).to(device)}\n",
    "with torch.no_grad():\n",
    "    outputs = vocoder.forward(inputs)\n",
    "output_slice = outputs[\"slice\"].squeeze(1)"
   ]
  },
  {
   "cell_type": "markdown",
   "metadata": {},
   "source": [
    "### Play the reconstructed slice"
   ]
  },
  {
   "cell_type": "code",
   "execution_count": null,
   "metadata": {},
   "outputs": [],
   "source": [
    "x = (np.array(range(slice.shape[-1])) + 1) / dataset_params.sample_rate\n",
    "y = output_slice.squeeze(0).cpu().numpy()\n",
    "data = pd.DataFrame({\"Time [s]\": x, \"Signal\": y})\n",
    "sns.set(rc={'figure.figsize':(20, 5)})\n",
    "ax = sns.lineplot(data=data, x=\"Time [s]\", y=\"Signal\")\n",
    "ax.set_ylim((-1, 1))\n",
    "torchaudio.save('sample_out.mp3', output_slice.cpu().detach(), 44100, format='mp3')\n",
    "IPython.display.Audio(filename=\"sample_out.mp3\")"
   ]
  },
  {
   "cell_type": "markdown",
   "metadata": {},
   "source": [
    "## Reconstruct Unknown Slice"
   ]
  },
  {
   "cell_type": "markdown",
   "metadata": {},
   "source": [
    "### Extract novel slice"
   ]
  },
  {
   "cell_type": "code",
   "execution_count": null,
   "metadata": {},
   "outputs": [],
   "source": [
    "test_track_path = \"data/test_tracks/bhaalspawn.mp3\"\n",
    "slice_new_big: torch.Tensor = torchaudio.load(test_track_path, format=\"mp3\")[0]\n",
    "slice_new_big = slice_new_big.mean(dim=0, keepdim=True)\n",
    "slice_start_idx = int(random.random() * 8e6)\n",
    "slice_new = slice_new_big[:, slice_start_idx: slice_start_idx + 32768 * 8]"
   ]
  },
  {
   "cell_type": "markdown",
   "metadata": {},
   "source": [
    "### Play the slice and show the waveform"
   ]
  },
  {
   "cell_type": "code",
   "execution_count": null,
   "metadata": {},
   "outputs": [],
   "source": [
    "x = (np.array(range(slice_new.shape[-1])) + 1) / dataset_params.sample_rate\n",
    "y = slice_new.squeeze(0).cpu().numpy()\n",
    "data = pd.DataFrame({\"Time [s]\": x, \"Signal\": y})\n",
    "sns.set_style(\"darkgrid\")\n",
    "sns.set(rc={'figure.figsize':(20, 5)})\n",
    "ax = sns.lineplot(data=data, x=\"Time [s]\", y=\"Signal\")\n",
    "ax.set_ylim((-1, 1))\n",
    "\n",
    "torchaudio.save('sample_out.mp3', slice_new.cpu().detach(), 44100, format='mp3')\n",
    "IPython.display.Audio(filename=\"sample_out.mp3\")"
   ]
  },
  {
   "cell_type": "markdown",
   "metadata": {},
   "source": [
    "### Display mel spectrogram"
   ]
  },
  {
   "cell_type": "code",
   "execution_count": null,
   "metadata": {},
   "outputs": [],
   "source": [
    "slice_mel_spec = mel_spec_converter.convert(slice_new)\n",
    "ax = sns.heatmap(slice_mel_spec.squeeze(0).squeeze(0).cpu().numpy(), robust=True, cmap=\"mako\")\n",
    "ax.invert_yaxis()"
   ]
  },
  {
   "cell_type": "markdown",
   "metadata": {},
   "source": [
    "### Pass the mel-spectrogram through the decoder"
   ]
  },
  {
   "cell_type": "code",
   "execution_count": null,
   "metadata": {},
   "outputs": [],
   "source": [
    "inputs = {\"mel_spec\": slice_mel_spec.squeeze(1).to(device)}\n",
    "with torch.no_grad():\n",
    "    outputs = vocoder.forward(inputs)\n",
    "output_slice = outputs[\"slice\"].squeeze(1)"
   ]
  },
  {
   "cell_type": "markdown",
   "metadata": {},
   "source": [
    "### Play the reconstructed slice"
   ]
  },
  {
   "cell_type": "code",
   "execution_count": null,
   "metadata": {},
   "outputs": [],
   "source": [
    "x = (np.array(range(output_slice.shape[-1])) + 1) / dataset_params.sample_rate\n",
    "y = output_slice.squeeze(0).cpu().numpy()\n",
    "data = pd.DataFrame({\"Time [s]\": x, \"Signal\": y})\n",
    "sns.set(rc={'figure.figsize':(20, 5)})\n",
    "ax = sns.lineplot(data=data, x=\"Time [s]\", y=\"Signal\")\n",
    "ax.set_ylim((-1, 1))\n",
    "torchaudio.save('sample_out.mp3', output_slice.cpu().detach(), 44100, format='mp3')\n",
    "IPython.display.Audio(filename=\"sample_out.mp3\")"
   ]
  },
  {
   "cell_type": "markdown",
   "metadata": {},
   "source": [
    "# Random Slice Generation"
   ]
  },
  {
   "cell_type": "markdown",
   "metadata": {},
   "source": [
    "### Create random slice"
   ]
  },
  {
   "cell_type": "code",
   "execution_count": null,
   "metadata": {},
   "outputs": [],
   "source": [
    "slice_mel_spec = (torch.randn((1, 512, 32)) @ torch.diag(torch.linspace(1, 0.01, 32))).permute((0, 2, 1))\n",
    "slice_mel_spec[slice_mel_spec < 0] = 0\n",
    "ax = sns.heatmap(slice_mel_spec.squeeze(0).squeeze(0).cpu().numpy(), robust=True, cmap=\"mako\")\n",
    "ax.invert_yaxis()"
   ]
  },
  {
   "cell_type": "markdown",
   "metadata": {},
   "source": [
    "### Pass the mel-spectrogram through the decoder"
   ]
  },
  {
   "cell_type": "code",
   "execution_count": null,
   "metadata": {},
   "outputs": [],
   "source": [
    "inputs = {\"mel_spec\": slice_mel_spec.squeeze(1).to(device)}\n",
    "with torch.no_grad():\n",
    "    outputs = vocoder.forward(inputs)\n",
    "output_slice = outputs[\"slice\"].squeeze(1)"
   ]
  },
  {
   "cell_type": "markdown",
   "metadata": {},
   "source": [
    "### Display the waveform and play the sound"
   ]
  },
  {
   "cell_type": "code",
   "execution_count": null,
   "metadata": {},
   "outputs": [],
   "source": [
    "x = (np.array(range(output_slice.shape[-1])) + 1) / dataset_params.sample_rate\n",
    "y = output_slice.squeeze(0).cpu().numpy()\n",
    "data = pd.DataFrame({\"Time [s]\": x, \"Signal\": y})\n",
    "sns.set(rc={'figure.figsize':(20, 5)})\n",
    "ax = sns.lineplot(data=data, x=\"Time [s]\", y=\"Signal\")\n",
    "ax.set_ylim((-1, 1))\n",
    "torchaudio.save('sample_out.mp3', output_slice.cpu().detach(), 44100, format='mp3')\n",
    "IPython.display.Audio(filename=\"sample_out.mp3\")"
   ]
  }
 ],
 "metadata": {
  "kernelspec": {
   "display_name": "IHDF",
   "language": "python",
   "name": "python3"
  },
  "language_info": {
   "codemirror_mode": {
    "name": "ipython",
    "version": 3
   },
   "file_extension": ".py",
   "mimetype": "text/x-python",
   "name": "python",
   "nbconvert_exporter": "python",
   "pygments_lexer": "ipython3",
   "version": "3.11.5"
  },
  "orig_nbformat": 4
 },
 "nbformat": 4,
 "nbformat_minor": 2
}
