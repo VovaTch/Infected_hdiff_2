{
 "cells": [
  {
   "cell_type": "markdown",
   "metadata": {},
   "source": [
    "# Infected HDiff Infectizer"
   ]
  },
  {
   "cell_type": "markdown",
   "metadata": {},
   "source": [
    "## Change Working Directory"
   ]
  },
  {
   "cell_type": "code",
   "execution_count": null,
   "metadata": {},
   "outputs": [],
   "source": [
    "import os\n",
    "os.chdir(\"..\")"
   ]
  },
  {
   "cell_type": "markdown",
   "metadata": {},
   "source": [
    "## Imports"
   ]
  },
  {
   "cell_type": "code",
   "execution_count": null,
   "metadata": {},
   "outputs": [],
   "source": [
    "import torch\n",
    "import seaborn as sns\n",
    "import numpy as np\n",
    "import pandas as pd\n",
    "import torchaudio\n",
    "import IPython\n",
    "\n",
    "from loaders.build import build_mel_spec_module\n",
    "from models.build import build_diffwave_diffusion_vocoder, build_mel_spec_converter\n",
    "from utils.containers import MelSpecParameters, LearningParameters, DiffusionParameters, MusicDatasetParameters\n",
    "from utils.others import load_config"
   ]
  },
  {
   "cell_type": "markdown",
   "metadata": {},
   "source": [
    "## Load Config"
   ]
  },
  {
   "cell_type": "code",
   "execution_count": null,
   "metadata": {},
   "outputs": [],
   "source": [
    "cfg_path = \"config/config.yaml\"\n",
    "cfg = load_config(cfg_path)\n",
    "device = \"cuda\" if torch.cuda.is_available() else \"cpu\"\n",
    "print(f\"The current device is {device.upper()}\")\n",
    "\n",
    "weights_path = \"weights/vocoder/diffwave_best.ckpt\""
   ]
  },
  {
   "cell_type": "markdown",
   "metadata": {},
   "source": [
    "## Load Model"
   ]
  },
  {
   "cell_type": "code",
   "execution_count": null,
   "metadata": {},
   "outputs": [],
   "source": [
    "vocoder = build_diffwave_diffusion_vocoder(cfg, weights_path=weights_path).eval().to(device)\n",
    "print(f\"Loaded vocoder from path {weights_path}\")"
   ]
  },
  {
   "cell_type": "markdown",
   "metadata": {},
   "source": [
    "## Load Dataset"
   ]
  },
  {
   "cell_type": "code",
   "execution_count": null,
   "metadata": {},
   "outputs": [],
   "source": [
    "dataset_params = MusicDatasetParameters(**cfg[\"dataset\"])\n",
    "learning_params = LearningParameters(**cfg[\"learning\"])\n",
    "learning_params.batch_size = 1\n",
    "mel_spec_params = MelSpecParameters(**cfg[\"image_mel_spec_params\"])\n",
    "data_module = build_mel_spec_module(dataset_params, learning_params, mel_spec_params)"
   ]
  },
  {
   "cell_type": "markdown",
   "metadata": {},
   "source": [
    "## Load Datapoint"
   ]
  },
  {
   "cell_type": "code",
   "execution_count": null,
   "metadata": {},
   "outputs": [],
   "source": [
    "data_module.setup(\"fit\")\n",
    "loader = data_module.train_dataloader()\n",
    "for batch in loader:\n",
    "    print(f\"File name: {batch['slice_file_name'][0]}\")\n",
    "    print(f\"File index: {batch['slice_idx'].item()}\")\n",
    "    print(f\"The slice dimensions are {tuple(batch['slice'].shape)}\")\n",
    "    slice = batch[\"slice\"]\n",
    "    break"
   ]
  },
  {
   "cell_type": "markdown",
   "metadata": {},
   "source": [
    "## Create Player Object"
   ]
  },
  {
   "cell_type": "code",
   "execution_count": null,
   "metadata": {},
   "outputs": [],
   "source": [
    "# this is a wrapper that take a filename and publish an html <audio> tag to listen to it\n",
    "\n",
    "def wavPlayer(filepath):\n",
    "    \"\"\" will display html 5 player for compatible browser\n",
    "\n",
    "    Parameters :\n",
    "    ------------\n",
    "    filepath : relative filepath with respect to the notebook directory ( where the .ipynb are not cwd)\n",
    "               of the file to play\n",
    "\n",
    "    The browser need to know how to play wav through html5.\n",
    "\n",
    "    there is no autoplay to prevent file playing when the browser opens\n",
    "    \"\"\"\n",
    "    \n",
    "    src = \"\"\"\n",
    "    <head>\n",
    "    <meta http-equiv=\"Content-Type\" content=\"text/html; charset=utf-8\">\n",
    "    <title>Simple Test</title>\n",
    "    </head>\n",
    "    \n",
    "    <body>\n",
    "    <audio controls=\"controls\" style=\"width:600px\" >\n",
    "      <source src=\"files/%s\" type=\"audio/mp3\" />\n",
    "      Your browser does not support the audio element.\n",
    "    </audio>\n",
    "    </body>\n",
    "    \"\"\"%(filepath)\n",
    "    display(HTML(src))"
   ]
  },
  {
   "cell_type": "markdown",
   "metadata": {},
   "source": [
    "## Show Mel Spectrogram"
   ]
  },
  {
   "cell_type": "code",
   "execution_count": null,
   "metadata": {},
   "outputs": [],
   "source": [
    "mel_spec_converter = build_mel_spec_converter(\"simple\", mel_spec_params)\n",
    "slice_mel_spec = mel_spec_converter.convert(slice)\n",
    "ax = sns.heatmap(slice_mel_spec.squeeze(0).squeeze(0).cpu().numpy(), robust=True, cmap=\"mako\")\n",
    "ax.invert_yaxis()"
   ]
  },
  {
   "cell_type": "markdown",
   "metadata": {},
   "source": [
    "## Show Waveform and Play It"
   ]
  },
  {
   "cell_type": "code",
   "execution_count": null,
   "metadata": {},
   "outputs": [],
   "source": [
    "x = (np.array(range(slice.shape[-1])) + 1) / dataset_params.sample_rate\n",
    "y = slice.squeeze(0).squeeze(0).cpu().numpy()\n",
    "data = pd.DataFrame({\"Time [s]\": x, \"Signal\": y})\n",
    "sns.set_style(\"darkgrid\")\n",
    "sns.set(rc={'figure.figsize':(20, 5)})\n",
    "ax = sns.lineplot(data=data, x=\"Time [s]\", y=\"Signal\")\n",
    "ax.set_ylim((-1, 1))\n",
    "torchaudio.save('sample_out.mp3', slice.squeeze(0).cpu().detach(), 44100, format='mp3')\n",
    "IPython.display.Audio(filename=\"sample_out.mp3\")"
   ]
  },
  {
   "cell_type": "markdown",
   "metadata": {},
   "source": [
    "## Reconstruct the Sound Wave"
   ]
  },
  {
   "cell_type": "code",
   "execution_count": null,
   "metadata": {},
   "outputs": [],
   "source": [
    "noisy_input = {\"noisy_slice\": torch.randn_like(slice.squeeze(1)) * 0.2}\n",
    "cond_input = {\"mel_spec\": slice_mel_spec.squeeze(1)}\n",
    "reconstructed_output = vocoder.denoise(noisy_input, cond_input)\n",
    "reconstructed_slice = reconstructed_output[\"denoised_slice\"]"
   ]
  },
  {
   "cell_type": "markdown",
   "metadata": {},
   "source": [
    "## Play the Reconstructed Slice"
   ]
  },
  {
   "cell_type": "code",
   "execution_count": null,
   "metadata": {},
   "outputs": [],
   "source": [
    "x = (np.array(range(slice.shape[-1])) + 1) / dataset_params.sample_rate\n",
    "y = reconstructed_slice.squeeze(0).cpu().numpy()\n",
    "data = pd.DataFrame({\"Time [s]\": x, \"Signal\": y})\n",
    "sns.set_style(\"darkgrid\")\n",
    "sns.set(rc={'figure.figsize':(20, 5)})\n",
    "ax = sns.lineplot(data=data, x=\"Time [s]\", y=\"Signal\")\n",
    "ax.set_ylim((-1, 1))\n",
    "torchaudio.save('sample_out.mp3', reconstructed_slice.cpu().detach(), 44100, format='mp3')\n",
    "IPython.display.Audio(filename=\"sample_out.mp3\")"
   ]
  }
 ],
 "metadata": {
  "kernelspec": {
   "display_name": "IHDF",
   "language": "python",
   "name": "python3"
  },
  "language_info": {
   "codemirror_mode": {
    "name": "ipython",
    "version": 3
   },
   "file_extension": ".py",
   "mimetype": "text/x-python",
   "name": "python",
   "nbconvert_exporter": "python",
   "pygments_lexer": "ipython3",
   "version": "3.11.5"
  },
  "orig_nbformat": 4
 },
 "nbformat": 4,
 "nbformat_minor": 2
}
